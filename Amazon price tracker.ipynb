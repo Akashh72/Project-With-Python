{
 "cells": [
  {
   "cell_type": "code",
   "execution_count": 5,
   "metadata": {},
   "outputs": [],
   "source": [
    "import requests\n",
    "from bs4 import BeautifulSoup as BS"
   ]
  },
  {
   "cell_type": "code",
   "execution_count": 2,
   "metadata": {},
   "outputs": [],
   "source": [
    "URL = \"https://www.amazon.in/OnePlus-Bullets-Wireless-Bass-Reverb/dp/B08HLTFB33/?_encoding=UTF8&pd_rd_w=syOBO&pf_rd_p=2c2b5663-2c1f-48e2-a729-9de758730abc&pf_rd_r=Z8AQT5A76HK7GHG6S1JV&pd_rd_r=12974e0e-64bc-4293-8e86-5b499ef13ce6&pd_rd_wg=qPKR7&ref_=pd_gw_ci_mcx_mi&th=1\""
   ]
  },
  {
   "cell_type": "code",
   "execution_count": null,
   "metadata": {},
   "outputs": [
    {
     "ename": "NameError",
     "evalue": "name 'requests' is not defined",
     "output_type": "error",
     "traceback": [
      "\u001b[1;31m---------------------------------------------------------------------------\u001b[0m",
      "\u001b[1;31mNameError\u001b[0m                                 Traceback (most recent call last)",
      "\u001b[1;32md:\\Study\\4th sem\\Project\\Amazon price tracker.ipynb Cell 3'\u001b[0m in \u001b[0;36m<module>\u001b[1;34m\u001b[0m\n\u001b[1;32m----> <a href='vscode-notebook-cell:/d%3A/Study/4th%20sem/Project/Amazon%20price%20tracker.ipynb#ch0000002?line=0'>1</a>\u001b[0m requests\u001b[39m.\u001b[39mget(URL,headers\u001b[39m=\u001b[39m{\u001b[39m\"\u001b[39m\u001b[39mUser-Agent\u001b[39m\u001b[39m\"\u001b[39m})\n",
      "\u001b[1;31mNameError\u001b[0m: name 'requests' is not defined"
     ]
    }
   ],
   "source": [
    "page = requests.get(URL,headers={\"User-Agen t\":\"Mozilla/5.0 (Windows NT 10.0; Win64; x64) AppleWebKit/537.36 (KHTML, like Gecko) Chrome/100.0.4896.75 Safari/537.36\"})"
   ]
  }
 ],
 "metadata": {
  "interpreter": {
   "hash": "aceafa1586763762d85331d84b85284d075216cb02c7f0fb8867313774033b01"
  },
  "kernelspec": {
   "display_name": "Python 3.10.2 64-bit",
   "language": "python",
   "name": "python3"
  },
  "language_info": {
   "codemirror_mode": {
    "name": "ipython",
    "version": 3
   },
   "file_extension": ".py",
   "mimetype": "text/x-python",
   "name": "python",
   "nbconvert_exporter": "python",
   "pygments_lexer": "ipython3",
   "version": "3.10.2"
  },
  "orig_nbformat": 4
 },
 "nbformat": 4,
 "nbformat_minor": 2
}
